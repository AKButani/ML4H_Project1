{
 "cells": [
  {
   "cell_type": "code",
   "execution_count": 1,
   "metadata": {},
   "outputs": [],
   "source": [
    "import torch\n",
    "import torch.nn as nn\n",
    "import numpy as np\n",
    "import pandas as pd\n",
    "import torch.optim as optim\n",
    "from torch.utils.data import DataLoader, TensorDataset\n",
    "from sklearn.metrics import roc_auc_score, average_precision_score\n",
    "from tqdm import tqdm\n",
    "from torch.nn.utils.rnn import pad_sequence\n",
    "import math\n",
    "import matplotlib.pyplot as plt"
   ]
  },
  {
   "cell_type": "code",
   "execution_count": 2,
   "metadata": {},
   "outputs": [
    {
     "name": "stdout",
     "output_type": "stream",
     "text": [
      "torch.Size([3997, 49, 41]) torch.Size([3997, 1])\n"
     ]
    }
   ],
   "source": [
    "def load_datasets():\n",
    "    train_set = pd.read_parquet('loaded_data/a_patient_data_processed_cluster.parquet')\n",
    "    test_set = pd.read_parquet('loaded_data/c_patient_data_processed_cluster.parquet')\n",
    "    return train_set, test_set\n",
    "\n",
    "train_df, test_df = load_datasets()\n",
    "\n",
    "X_train = torch.tensor(train_df.drop(columns=[\"ICUType\", \"In-hospital_death\"]).values, dtype=torch.float32)\n",
    "y_train = torch.tensor(train_df[\"In-hospital_death\"].values, dtype=torch.float32).unsqueeze(1)\n",
    "X_test = torch.tensor(test_df.drop(columns=[\"ICUType\", \"In-hospital_death\"]).values, dtype=torch.float32)\n",
    "y_test = torch.tensor(test_df[\"In-hospital_death\"].values, dtype=torch.float32).unsqueeze(1)\n",
    "\n",
    "feature_columns = [col for col in train_df.columns if col not in [\"RecordID\", \"In-hospital_death\", \"ICUType\"]]\n",
    "\n",
    "grouped = train_df.groupby(\"RecordID\")\n",
    "\n",
    "def pad_to_fixed_length(tensor, length=49):\n",
    "    current_length = tensor.size(0)\n",
    "    if current_length < length:\n",
    "        padding = torch.zeros((length - current_length, tensor.size(1)))\n",
    "        return torch.cat([tensor, padding], dim=0)\n",
    "    else:\n",
    "        return tensor\n",
    "\n",
    "def process_dataframe(df):\n",
    "    list_of_patient_tensors = []\n",
    "    patient_labels = []\n",
    "    grouped = df.groupby(\"RecordID\")\n",
    "    for record_id, group in grouped:\n",
    "        group_tensor = torch.tensor(group[feature_columns].values, dtype=torch.float32)\n",
    "        group_tensor_fixed = pad_to_fixed_length(group_tensor, length=49)\n",
    "        list_of_patient_tensors.append(group_tensor_fixed)\n",
    "        # For the label, we assume that if any timestep indicates death, the patient is labeled as death (1)\n",
    "        patient_labels.append(group[\"In-hospital_death\"].max())\n",
    "    sequences = torch.stack(list_of_patient_tensors, dim=0)  \n",
    "    labels = torch.tensor(patient_labels, dtype=torch.float32).unsqueeze(1)\n",
    "    return sequences, labels\n",
    "\n",
    "# Process training and testing data\n",
    "padded_sequences_train, labels_tensor_train = process_dataframe(train_df)\n",
    "padded_sequences_test, labels_tensor_test = process_dataframe(test_df)\n",
    "print(padded_sequences_train.size(), labels_tensor_train.size())"
   ]
  },
  {
   "cell_type": "code",
   "execution_count": 3,
   "metadata": {},
   "outputs": [
    {
     "name": "stderr",
     "output_type": "stream",
     "text": [
      "/opt/anaconda3/envs/playground/lib/python3.9/site-packages/torch/nn/modules/transformer.py:306: UserWarning: enable_nested_tensor is True, but self.use_nested_tensor is False because encoder_layer.self_attn.batch_first was not True(use batch_first for better inference performance)\n",
      "  warnings.warn(f\"enable_nested_tensor is True, but self.use_nested_tensor is False because {why_not_sparsity_fast_path}\")\n"
     ]
    }
   ],
   "source": [
    "# Create TensorDatasets and DataLoaders\n",
    "batch_size = 32\n",
    "train_dataset = TensorDataset(padded_sequences_train, labels_tensor_train)\n",
    "test_dataset = TensorDataset(padded_sequences_test, labels_tensor_test)\n",
    "train_loader = DataLoader(train_dataset, batch_size=batch_size, shuffle=True)\n",
    "test_loader = DataLoader(test_dataset, batch_size=batch_size, shuffle=False)\n",
    "\n",
    "class PositionalEncoding(nn.Module):\n",
    "    def __init__(self, d_model, max_len=49):\n",
    "        super(PositionalEncoding, self).__init__()\n",
    "        pe = torch.zeros(max_len, d_model)\n",
    "        position = torch.arange(0, max_len, dtype=torch.float32).unsqueeze(1)\n",
    "        div_term = torch.exp(torch.arange(0, d_model, 2, dtype=torch.float32) * (-math.log(10000.0) / d_model))\n",
    "        pe[:, 0::2] = torch.sin(position * div_term)\n",
    "        if d_model % 2 == 0:\n",
    "            pe[:, 1::2] = torch.cos(position * div_term)\n",
    "        else:\n",
    "            pe[:, 1::2] = torch.cos(position * div_term)[:,:pe[:, 1::2].shape[1]]\n",
    "        pe = pe.unsqueeze(0)  # Shape: (1, max_len, d_model)\n",
    "        self.register_buffer('pe', pe)\n",
    "\n",
    "    def forward(self, x):\n",
    "        x = x + self.pe[:, :x.size(1)]\n",
    "        return x\n",
    "\n",
    "class TransformerClassifier(nn.Module):\n",
    "    def __init__(self, input_dim=41, model_dim=64, num_heads=4, num_layers=2, num_classes=1, dropout=0.1):\n",
    "        super(TransformerClassifier, self).__init__()\n",
    "        self.input_linear = nn.Linear(input_dim, model_dim)\n",
    "        self.positional_encoding = PositionalEncoding(d_model=model_dim, max_len=49)\n",
    "        encoder_layer = nn.TransformerEncoderLayer(d_model=model_dim, nhead=num_heads, dropout=dropout)\n",
    "        self.transformer_encoder = nn.TransformerEncoder(encoder_layer, num_layers=num_layers)\n",
    "        self.classifier = nn.Linear(model_dim, num_classes)\n",
    "    \n",
    "    def forward(self, x):\n",
    "        x = self.input_linear(x)          \n",
    "        x = self.positional_encoding(x)  \n",
    "        x = x.transpose(0, 1)             \n",
    "        x = self.transformer_encoder(x)   \n",
    "        x = x.mean(dim=0)          \n",
    "        logits = self.classifier(x) \n",
    "        return logits\n",
    "\n",
    "\n",
    "\n",
    "device = torch.device(\"cuda\" if torch.cuda.is_available() else \"cpu\")\n",
    "# Ensure the input dimension matches the number of features\n",
    "model = TransformerClassifier(input_dim=len(feature_columns), model_dim=64, num_heads=4, num_layers=1)\n",
    "model.to(device)\n",
    "\n",
    "criterion = nn.BCEWithLogitsLoss(pos_weight = torch.tensor([9.0]))\n",
    "optimizer = optim.Adam(model.parameters(), lr=1e-3)\n",
    "num_epochs = 10\n",
    "\n"
   ]
  },
  {
   "cell_type": "code",
   "execution_count": 4,
   "metadata": {},
   "outputs": [
    {
     "name": "stderr",
     "output_type": "stream",
     "text": [
      "                                                             \r"
     ]
    },
    {
     "name": "stdout",
     "output_type": "stream",
     "text": [
      "Epoch [1/30] - Average Loss: 1.3342\n"
     ]
    },
    {
     "name": "stderr",
     "output_type": "stream",
     "text": [
      "                                                             \r"
     ]
    },
    {
     "name": "stdout",
     "output_type": "stream",
     "text": [
      "Epoch [2/30] - Average Loss: 1.1712\n"
     ]
    },
    {
     "name": "stderr",
     "output_type": "stream",
     "text": [
      "                                                             \r"
     ]
    },
    {
     "name": "stdout",
     "output_type": "stream",
     "text": [
      "Epoch [3/30] - Average Loss: 1.0896\n"
     ]
    },
    {
     "name": "stderr",
     "output_type": "stream",
     "text": [
      "                                                             \r"
     ]
    },
    {
     "name": "stdout",
     "output_type": "stream",
     "text": [
      "Epoch [4/30] - Average Loss: 1.0387\n"
     ]
    },
    {
     "name": "stderr",
     "output_type": "stream",
     "text": [
      "                                                             \r"
     ]
    },
    {
     "name": "stdout",
     "output_type": "stream",
     "text": [
      "Epoch [5/30] - Average Loss: 0.9737\n"
     ]
    },
    {
     "name": "stderr",
     "output_type": "stream",
     "text": [
      "                                                             \r"
     ]
    },
    {
     "name": "stdout",
     "output_type": "stream",
     "text": [
      "Epoch [6/30] - Average Loss: 0.9594\n"
     ]
    },
    {
     "name": "stderr",
     "output_type": "stream",
     "text": [
      "                                                             \r"
     ]
    },
    {
     "name": "stdout",
     "output_type": "stream",
     "text": [
      "Epoch [7/30] - Average Loss: 0.9213\n"
     ]
    },
    {
     "name": "stderr",
     "output_type": "stream",
     "text": [
      "                                                             \r"
     ]
    },
    {
     "name": "stdout",
     "output_type": "stream",
     "text": [
      "Epoch [8/30] - Average Loss: 0.9001\n"
     ]
    },
    {
     "name": "stderr",
     "output_type": "stream",
     "text": [
      "                                                             \r"
     ]
    },
    {
     "name": "stdout",
     "output_type": "stream",
     "text": [
      "Epoch [9/30] - Average Loss: 0.8689\n"
     ]
    },
    {
     "name": "stderr",
     "output_type": "stream",
     "text": [
      "                                                              \r"
     ]
    },
    {
     "name": "stdout",
     "output_type": "stream",
     "text": [
      "Epoch [10/30] - Average Loss: 0.8455\n"
     ]
    },
    {
     "name": "stderr",
     "output_type": "stream",
     "text": [
      "                                                              \r"
     ]
    },
    {
     "name": "stdout",
     "output_type": "stream",
     "text": [
      "Epoch [11/30] - Average Loss: 0.8211\n"
     ]
    },
    {
     "name": "stderr",
     "output_type": "stream",
     "text": [
      "                                                              \r"
     ]
    },
    {
     "name": "stdout",
     "output_type": "stream",
     "text": [
      "Epoch [12/30] - Average Loss: 0.8145\n"
     ]
    },
    {
     "name": "stderr",
     "output_type": "stream",
     "text": [
      "                                                              \r"
     ]
    },
    {
     "name": "stdout",
     "output_type": "stream",
     "text": [
      "Epoch [13/30] - Average Loss: 0.7727\n"
     ]
    },
    {
     "name": "stderr",
     "output_type": "stream",
     "text": [
      "                                                              \r"
     ]
    },
    {
     "name": "stdout",
     "output_type": "stream",
     "text": [
      "Epoch [14/30] - Average Loss: 0.7416\n"
     ]
    },
    {
     "name": "stderr",
     "output_type": "stream",
     "text": [
      "                                                              \r"
     ]
    },
    {
     "name": "stdout",
     "output_type": "stream",
     "text": [
      "Epoch [15/30] - Average Loss: 0.7300\n"
     ]
    },
    {
     "name": "stderr",
     "output_type": "stream",
     "text": [
      "                                                              \r"
     ]
    },
    {
     "name": "stdout",
     "output_type": "stream",
     "text": [
      "Epoch [16/30] - Average Loss: 0.6849\n"
     ]
    },
    {
     "name": "stderr",
     "output_type": "stream",
     "text": [
      "                                                              \r"
     ]
    },
    {
     "name": "stdout",
     "output_type": "stream",
     "text": [
      "Epoch [17/30] - Average Loss: 0.6547\n"
     ]
    },
    {
     "name": "stderr",
     "output_type": "stream",
     "text": [
      "                                                              \r"
     ]
    },
    {
     "name": "stdout",
     "output_type": "stream",
     "text": [
      "Epoch [18/30] - Average Loss: 0.6179\n"
     ]
    },
    {
     "name": "stderr",
     "output_type": "stream",
     "text": [
      "                                                              \r"
     ]
    },
    {
     "name": "stdout",
     "output_type": "stream",
     "text": [
      "Epoch [19/30] - Average Loss: 0.6416\n"
     ]
    },
    {
     "name": "stderr",
     "output_type": "stream",
     "text": [
      "                                                              \r"
     ]
    },
    {
     "name": "stdout",
     "output_type": "stream",
     "text": [
      "Epoch [20/30] - Average Loss: 0.5719\n"
     ]
    },
    {
     "name": "stderr",
     "output_type": "stream",
     "text": [
      "                                                              \r"
     ]
    },
    {
     "name": "stdout",
     "output_type": "stream",
     "text": [
      "Epoch [21/30] - Average Loss: 0.5641\n"
     ]
    },
    {
     "name": "stderr",
     "output_type": "stream",
     "text": [
      "                                                              \r"
     ]
    },
    {
     "name": "stdout",
     "output_type": "stream",
     "text": [
      "Epoch [22/30] - Average Loss: 0.5549\n"
     ]
    },
    {
     "name": "stderr",
     "output_type": "stream",
     "text": [
      "                                                              \r"
     ]
    },
    {
     "name": "stdout",
     "output_type": "stream",
     "text": [
      "Epoch [23/30] - Average Loss: 0.4823\n"
     ]
    },
    {
     "name": "stderr",
     "output_type": "stream",
     "text": [
      "                                                              \r"
     ]
    },
    {
     "name": "stdout",
     "output_type": "stream",
     "text": [
      "Epoch [24/30] - Average Loss: 0.4696\n"
     ]
    },
    {
     "name": "stderr",
     "output_type": "stream",
     "text": [
      "                                                              \r"
     ]
    },
    {
     "name": "stdout",
     "output_type": "stream",
     "text": [
      "Epoch [25/30] - Average Loss: 0.4652\n"
     ]
    },
    {
     "name": "stderr",
     "output_type": "stream",
     "text": [
      "                                                              \r"
     ]
    },
    {
     "name": "stdout",
     "output_type": "stream",
     "text": [
      "Epoch [26/30] - Average Loss: 0.3894\n"
     ]
    },
    {
     "name": "stderr",
     "output_type": "stream",
     "text": [
      "                                                              \r"
     ]
    },
    {
     "name": "stdout",
     "output_type": "stream",
     "text": [
      "Epoch [27/30] - Average Loss: 0.3921\n"
     ]
    },
    {
     "name": "stderr",
     "output_type": "stream",
     "text": [
      "                                                              \r"
     ]
    },
    {
     "name": "stdout",
     "output_type": "stream",
     "text": [
      "Epoch [28/30] - Average Loss: 0.3338\n"
     ]
    },
    {
     "name": "stderr",
     "output_type": "stream",
     "text": [
      "                                                              \r"
     ]
    },
    {
     "name": "stdout",
     "output_type": "stream",
     "text": [
      "Epoch [29/30] - Average Loss: 0.3822\n"
     ]
    },
    {
     "name": "stderr",
     "output_type": "stream",
     "text": [
      "                                                              \r"
     ]
    },
    {
     "name": "stdout",
     "output_type": "stream",
     "text": [
      "Epoch [30/30] - Average Loss: 0.3659\n"
     ]
    },
    {
     "data": {
      "image/png": "[encoded data removed]",
      "text/plain": [
       "<Figure size 1000x600 with 1 Axes>"
      ]
     },
     "metadata": {},
     "output_type": "display_data"
    }
   ],
   "source": [
    "num_epochs = 30\n",
    "epoch_losses = [] \n",
    "\n",
    "for epoch in range(num_epochs):\n",
    "    model.train() \n",
    "    running_loss = 0.0\n",
    "    num_batches = len(train_loader)\n",
    "    \n",
    "    for batch_data, batch_labels in tqdm(train_loader, desc=f\"Epoch {epoch+1}/{num_epochs}\", leave=False):\n",
    "        batch_data = batch_data.to(device)\n",
    "        batch_labels = batch_labels.to(device)\n",
    "        \n",
    "        optimizer.zero_grad()           # Zero the gradients\n",
    "        logits = model(batch_data)        # Forward pass\n",
    "        loss = criterion(logits, batch_labels)  # Compute loss\n",
    "        loss.backward()                   # Backpropagation\n",
    "        optimizer.step()                  # Update weights\n",
    "        \n",
    "        running_loss += loss.item()       # Accumulate batch loss\n",
    "    \n",
    "    avg_loss = running_loss / num_batches\n",
    "    epoch_losses.append(avg_loss)\n",
    "    print(f\"Epoch [{epoch+1}/{num_epochs}] - Average Loss: {avg_loss:.4f}\")\n",
    "\n",
    "# Plot the loss curve\n",
    "plt.figure(figsize=(10, 6))\n",
    "plt.plot(range(1, num_epochs + 1), epoch_losses, marker='o')\n",
    "plt.xlabel('Epoch')\n",
    "plt.ylabel('Loss')\n",
    "plt.title('Training Loss Curve')\n",
    "plt.show()\n"
   ]
  },
  {
   "cell_type": "code",
   "execution_count": 5,
   "metadata": {},
   "outputs": [
    {
     "name": "stderr",
     "output_type": "stream",
     "text": [
      "                                                             "
     ]
    },
    {
     "name": "stdout",
     "output_type": "stream",
     "text": [
      "Test Loss: 2.1939\n",
      "Overall Accuracy: 78.16%\n",
      "Accuracy for predicting 1 (Sensitivity): 66.84%\n",
      "Accuracy for predicting 0 (Specificity): 80.11%\n",
      "AUROC: 0.8131\n"
     ]
    },
    {
     "name": "stderr",
     "output_type": "stream",
     "text": [
      "\r"
     ]
    }
   ],
   "source": [
    "\n",
    "def evaluate_model(model, dataloader, criterion, device):\n",
    "    model.eval()  # Set model to evaluation mode\n",
    "    total_loss = 0.0\n",
    "    total_samples = 0\n",
    "    all_probs = []\n",
    "    all_preds = []\n",
    "    all_labels = []\n",
    "    \n",
    "    with torch.no_grad():\n",
    "        for batch_data, batch_labels in tqdm(dataloader, desc=\"Evaluating\", leave=False):\n",
    "            # Move data to device\n",
    "            batch_data = batch_data.to(device)\n",
    "            batch_labels = batch_labels.to(device)\n",
    "            \n",
    "            # Forward pass\n",
    "            logits = model(batch_data)\n",
    "            loss = criterion(logits, batch_labels)\n",
    "            \n",
    "            batch_size = batch_data.size(0)\n",
    "            total_loss += loss.item() * batch_size\n",
    "            total_samples += batch_size\n",
    "            \n",
    "            # Convert logits to probabilities and then binary predictions\n",
    "            probs = torch.sigmoid(logits)\n",
    "            preds = (probs > 0.5).float()\n",
    "            \n",
    "            all_probs.append(probs.cpu())\n",
    "            all_preds.append(preds.cpu())\n",
    "            all_labels.append(batch_labels.cpu())\n",
    "    \n",
    "    # Compute average loss over all samples\n",
    "    avg_loss = total_loss / total_samples\n",
    "    \n",
    "    # Concatenate all predictions, probabilities, and labels\n",
    "    all_probs = torch.cat(all_probs, dim=0)\n",
    "    all_preds = torch.cat(all_preds, dim=0)\n",
    "    all_labels = torch.cat(all_labels, dim=0)\n",
    "    \n",
    "    # Overall accuracy\n",
    "    overall_accuracy = (all_preds.eq(all_labels)).float().mean().item()\n",
    "    \n",
    "    # Accuracy for predicting 1 (sensitivity): among all true positives, how many were predicted as 1\n",
    "    pos_idx = (all_labels == 1).squeeze()\n",
    "    if pos_idx.sum() > 0:\n",
    "        accuracy_pos = (all_preds[pos_idx].eq(all_labels[pos_idx])).float().mean().item()\n",
    "    else:\n",
    "        accuracy_pos = float('nan')\n",
    "    \n",
    "    # Accuracy for predicting 0 (specificity): among all true negatives, how many were predicted as 0\n",
    "    neg_idx = (all_labels == 0).squeeze()\n",
    "    if neg_idx.sum() > 0:\n",
    "        accuracy_neg = (all_preds[neg_idx].eq(all_labels[neg_idx])).float().mean().item()\n",
    "    else:\n",
    "        accuracy_neg = float('nan')\n",
    "    \n",
    "    # Compute AUROC using probabilities (make sure to flatten the arrays)\n",
    "    try:\n",
    "        auroc = roc_auc_score(all_labels.numpy(), all_probs.numpy())\n",
    "    except Exception as e:\n",
    "        auroc = None\n",
    "        print(\"Error computing AUROC:\", e)\n",
    "    \n",
    "    return avg_loss, overall_accuracy, accuracy_pos, accuracy_neg, auroc\n",
    "\n",
    "# Run evaluation on the test_loader\n",
    "test_loss, overall_accuracy, accuracy_pos, accuracy_neg, test_auroc = evaluate_model(model, test_loader, criterion, device)\n",
    "print(f\"Test Loss: {test_loss:.4f}\")\n",
    "print(f\"Overall Accuracy: {overall_accuracy*100:.2f}%\")\n",
    "print(f\"Accuracy for predicting 1 (Sensitivity): {accuracy_pos*100:.2f}%\")\n",
    "print(f\"Accuracy for predicting 0 (Specificity): {accuracy_neg*100:.2f}%\")\n",
    "print(f\"AUROC: {test_auroc:.4f}\")\n"
   ]
  }
 ],
 "metadata": {
  "kernelspec": {
   "display_name": "playground",
   "language": "python",
   "name": "python3"
  },
  "language_info": {
   "codemirror_mode": {
    "name": "ipython",
    "version": 3
   },
   "file_extension": ".py",
   "mimetype": "text/x-python",
   "name": "python",
   "nbconvert_exporter": "python",
   "pygments_lexer": "ipython3",
   "version": "3.9.21"
  }
 },
 "nbformat": 4,
 "nbformat_minor": 2
}
