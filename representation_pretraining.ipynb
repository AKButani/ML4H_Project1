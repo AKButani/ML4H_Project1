{
 "cells": [
  {
   "cell_type": "code",
   "execution_count": 28,
   "metadata": {},
   "outputs": [],
   "source": [
    "import torch\n",
    "import torch.nn as nn\n",
    "import torch.nn.functional as F\n",
    "import numpy as np\n",
    "import pandas as pd\n",
    "import torch.optim as optim\n",
    "from torch.utils.data import DataLoader, TensorDataset\n",
    "from sklearn.metrics import roc_auc_score, average_precision_score\n",
    "from tqdm import tqdm\n",
    "from torch.nn.utils.rnn import pad_sequence\n",
    "import math\n",
    "import matplotlib.pyplot as plt\n",
    "import random"
   ]
  },
  {
   "cell_type": "code",
   "execution_count": 46,
   "metadata": {},
   "outputs": [],
   "source": [
    "device = torch.device(\"cuda\" if torch.cuda.is_available() else \"cpu\")\n",
    "\n",
    "def set_seed(seed=42):\n",
    "    random.seed(seed)\n",
    "    np.random.seed(seed)\n",
    "    torch.manual_seed(seed)\n",
    "    if torch.cuda.is_available():\n",
    "        torch.cuda.manual_seed_all(seed)\n",
    "    # Ensure reproducibility in CuDNN backend\n",
    "    torch.backends.cudnn.deterministic = True\n",
    "    torch.backends.cudnn.benchmark = False\n",
    "\n",
    "set_seed(42)"
   ]
  },
  {
   "cell_type": "code",
   "execution_count": 47,
   "metadata": {},
   "outputs": [],
   "source": [
    "def load_datasets():\n",
    "    train_path = 'loaded_data/a_patient_data_processed_cluster.parquet'\n",
    "    val_path = 'loaded_data/b_patient_data_processed_cluster.parquet'\n",
    "    test_path = 'loaded_data/c_patient_data_processed_cluster.parquet'\n",
    "    train_df = pd.read_parquet(train_path)\n",
    "    val_df = pd.read_parquet(val_path)\n",
    "    test_df = pd.read_parquet(test_path)\n",
    "    return train_df, val_df, test_df\n",
    "\n",
    "train_df, val_df, test_df = load_datasets()\n",
    "\n",
    "feature_columns = [col for col in train_df.columns if col not in [\"RecordID\", \"In-hospital_death\", \"ICUType\"]]\n",
    "\n",
    "def pad_to_fixed_length(tensor, length=49):\n",
    "    current_length = tensor.size(0)\n",
    "    if current_length < length:\n",
    "        padding = torch.zeros((length - current_length, tensor.size(1)))\n",
    "        return torch.cat([tensor, padding], dim=0)\n",
    "    else:\n",
    "        return tensor\n",
    "    \n",
    "def process_dataframe(df, feature_columns, sequence_length=49):\n",
    "    grouped = df.groupby(\"RecordID\")\n",
    "    list_of_patient_tensors = []\n",
    "    labels = []\n",
    "\n",
    "    for record_id, group in grouped:\n",
    "        group_tensor = torch.tensor(group[feature_columns].values, dtype=torch.float32)\n",
    "        group_tensor_fixed = pad_to_fixed_length(group_tensor, length=sequence_length)\n",
    "        list_of_patient_tensors.append(group_tensor_fixed)\n",
    "        labels.append(group[\"In-hospital_death\"].max())  # label = 1 if death at any timestep\n",
    "\n",
    "    sequences = torch.stack(list_of_patient_tensors)\n",
    "    labels = torch.tensor(labels, dtype=torch.float32).unsqueeze(1)\n",
    "    return sequences, labels\n",
    "\n",
    "\n",
    "\n"
   ]
  },
  {
   "cell_type": "code",
   "execution_count": 48,
   "metadata": {},
   "outputs": [],
   "source": [
    "#Note that the labels are not used in the pretraining phase, but are used in the fine-tuning phase.\n",
    "padded_sequences_train, labels_tensor_train = process_dataframe(train_df, feature_columns)\n",
    "padded_sequences_val, labels_tensor_val = process_dataframe(val_df, feature_columns)\n",
    "padded_sequences_test, labels_tensor_test = process_dataframe(test_df, feature_columns)\n",
    "\n",
    "batch_size = 32\n",
    "train_dataset = TensorDataset(padded_sequences_train, labels_tensor_train)\n",
    "val_dataset = TensorDataset(padded_sequences_val, labels_tensor_val)\n",
    "test_dataset = TensorDataset(padded_sequences_test, labels_tensor_test)\n",
    "\n",
    "train_loader = DataLoader(train_dataset, batch_size=batch_size, shuffle=True)\n",
    "val_loader = DataLoader(val_dataset, batch_size=batch_size, shuffle=False)\n",
    "test_loader = DataLoader(test_dataset, batch_size=batch_size, shuffle=False)"
   ]
  },
  {
   "cell_type": "code",
   "execution_count": 49,
   "metadata": {},
   "outputs": [],
   "source": [
    "#Same positional encoding as in the original code Transformer.ipynb\n",
    "class PositionalEncoding(nn.Module):\n",
    "    def __init__(self, d_model, max_len=49):\n",
    "        super(PositionalEncoding, self).__init__()\n",
    "        pe = torch.zeros(max_len, d_model)\n",
    "        position = torch.arange(0, max_len, dtype=torch.float32).unsqueeze(1)\n",
    "        div_term = torch.exp(torch.arange(0, d_model, 2, dtype=torch.float32) * (-math.log(10000.0) / d_model))\n",
    "        pe[:, 0::2] = torch.sin(position * div_term)\n",
    "        if d_model % 2 == 0:\n",
    "            pe[:, 1::2] = torch.cos(position * div_term)\n",
    "        else:\n",
    "            pe[:, 1::2] = torch.cos(position * div_term)[:,:pe[:, 1::2].shape[1]]\n",
    "        pe = pe.unsqueeze(0)  # Shape: (1, max_len, d_model)\n",
    "        self.register_buffer('pe', pe)\n",
    "\n",
    "    def forward(self, x):\n",
    "        x = x + self.pe[:, :x.size(1)]\n",
    "        return x"
   ]
  },
  {
   "cell_type": "code",
   "execution_count": 50,
   "metadata": {},
   "outputs": [],
   "source": [
    "\n",
    "\n",
    "# ----------------------------\n",
    "# CPC Model Definition\n",
    "# ----------------------------\n",
    "class CPCModel(nn.Module):\n",
    "    def __init__(self, input_dim=41, model_dim=64, seq_len=49, num_heads=4, num_layers=1, dropout=0.1, pred_steps=3):\n",
    "        \"\"\"\n",
    "        input_dim: dimensionality of input features (e.g. 41)\n",
    "        model_dim: dimensionality of latent representations\n",
    "        seq_len: fixed length of sequences (e.g. 49 timesteps)\n",
    "        pred_steps: number of future steps to predict (e.g. 3)\n",
    "        \"\"\"\n",
    "        super(CPCModel, self).__init__()\n",
    "        self.model_dim = model_dim\n",
    "        self.seq_len = seq_len\n",
    "        self.pred_steps = pred_steps\n",
    "        \n",
    "        # Encoder: same as the transformer encoder in Transformer.ipynb\n",
    "        self.input_linear = nn.Linear(input_dim, model_dim)\n",
    "        self.positional_encoding = PositionalEncoding(d_model=model_dim, max_len=seq_len)\n",
    "        encoder_layer = nn.TransformerEncoderLayer(d_model=model_dim, nhead=num_heads, dropout=dropout, batch_first=True)\n",
    "        self.transformer_encoder = nn.TransformerEncoder(encoder_layer, num_layers=num_layers)\n",
    "        \n",
    "        # Autoregressive model: using a GRU to produce context representations\n",
    "        self.gru = nn.GRU(input_size=model_dim, hidden_size=model_dim, batch_first=True)\n",
    "        \n",
    "        # Prediction heads: one linear layer per prediction step (from context to latent space)\n",
    "        self.prediction_heads = nn.ModuleList([nn.Linear(model_dim, model_dim) for _ in range(pred_steps)])\n",
    "    \n",
    "    def forward(self, x):\n",
    "        \"\"\"\n",
    "        Given an input batch x of shape (batch, seq_len, input_dim),\n",
    "        returns:\n",
    "          - z: latent representations from the encoder (batch, seq_len, model_dim)\n",
    "          - c: context vectors from the autoregressive model (batch, seq_len, model_dim)\n",
    "        \"\"\"\n",
    "        # Encode input\n",
    "        # x: (batch, seq_len, input_dim)\n",
    "        z = self.input_linear(x)               # (batch, seq_len, model_dim)\n",
    "        z = self.positional_encoding(z)         # add positional info\n",
    "        # Transformer expects (seq_len, batch, model_dim)\n",
    "        z = z.transpose(0, 1)                   # (seq_len, batch, model_dim)\n",
    "        z = self.transformer_encoder(z)         # (seq_len, batch, model_dim)\n",
    "        z = z.transpose(0, 1)                   # (batch, seq_len, model_dim)\n",
    "        \n",
    "        # Autoregressive model: GRU to produce context vectors\n",
    "        c, _ = self.gru(z)                      # (batch, seq_len, model_dim)\n",
    "        \n",
    "        return z, c\n",
    "    \n",
    "    def compute_loss(self, x):\n",
    "        \"\"\"\n",
    "        Compute the InfoNCE loss for a batch x.\n",
    "        For each time step t and each prediction step k=1,...,pred_steps where t+k < seq_len,\n",
    "        we predict the future latent representation from the context vector and compute a\n",
    "        contrastive loss over the batch.\n",
    "        \"\"\"\n",
    "        z, c = self.forward(x)  # z: (batch, seq_len, model_dim), c: (batch, seq_len, model_dim)\n",
    "        batch_size, seq_len, _ = z.shape\n",
    "        loss = 0.0\n",
    "        n_predictions = 0\n",
    "        \n",
    "        # For each prediction step k (e.g., 1, 2, 3)\n",
    "        for k in range(1, self.pred_steps + 1):\n",
    "            # For each valid time step t (t + k must be within the sequence length)\n",
    "            for t in range(seq_len - k):\n",
    "                # Get context at time t and true latent at time t+k.\n",
    "                c_t = c[:, t, :]            # (batch, model_dim)\n",
    "                z_tp = z[:, t+k, :]          # (batch, model_dim)\n",
    "                \n",
    "                # Use the prediction head for step k to predict future latent from context c_t.\n",
    "                pred = self.prediction_heads[k-1](c_t)  # (batch, model_dim)\n",
    "                \n",
    "                # Compute similarity scores (dot products) between predictions and true latents.\n",
    "                # This yields a (batch, batch) matrix where the diagonal should be the positive pair.\n",
    "                logits = torch.matmul(pred, z_tp.T)  # (batch, batch)\n",
    "                \n",
    "                # Create labels (correct index is the diagonal element for each sample).\n",
    "                labels = torch.arange(batch_size).to(x.device)\n",
    "                \n",
    "                # Cross-entropy loss encourages the dot product with the correct latent to be highest.\n",
    "                loss += F.cross_entropy(logits, labels)\n",
    "                n_predictions += 1\n",
    "        \n",
    "        loss = loss / n_predictions  # average loss over all predictions\n",
    "        return loss"
   ]
  },
  {
   "cell_type": "code",
   "execution_count": 54,
   "metadata": {},
   "outputs": [],
   "source": [
    "cpc_model = CPCModel(input_dim=len(feature_columns), model_dim=64, seq_len=49, num_heads=4, num_layers=1, dropout=0.1, pred_steps=3)\n",
    "cpc_model.to(device)\n",
    "\n",
    "optimizer_cpc = optim.Adam(cpc_model.parameters(), lr=1e-3)"
   ]
  },
  {
   "cell_type": "code",
   "execution_count": 55,
   "metadata": {},
   "outputs": [
    {
     "name": "stderr",
     "output_type": "stream",
     "text": [
      "                                                                              \r"
     ]
    },
    {
     "name": "stdout",
     "output_type": "stream",
     "text": [
      "Epoch [1/10] - Train Loss: 1.3734, Val Loss: 0.3840\n"
     ]
    },
    {
     "name": "stderr",
     "output_type": "stream",
     "text": [
      "                                                                              \r"
     ]
    },
    {
     "name": "stdout",
     "output_type": "stream",
     "text": [
      "Epoch [2/10] - Train Loss: 0.3779, Val Loss: 0.2959\n"
     ]
    },
    {
     "name": "stderr",
     "output_type": "stream",
     "text": [
      "                                                                              \r"
     ]
    },
    {
     "name": "stdout",
     "output_type": "stream",
     "text": [
      "Epoch [3/10] - Train Loss: 0.3125, Val Loss: 0.2687\n"
     ]
    },
    {
     "name": "stderr",
     "output_type": "stream",
     "text": [
      "                                                                              \r"
     ]
    },
    {
     "name": "stdout",
     "output_type": "stream",
     "text": [
      "Epoch [4/10] - Train Loss: 0.2782, Val Loss: 0.2525\n"
     ]
    },
    {
     "name": "stderr",
     "output_type": "stream",
     "text": [
      "                                                                              \r"
     ]
    },
    {
     "name": "stdout",
     "output_type": "stream",
     "text": [
      "Epoch [5/10] - Train Loss: 0.2625, Val Loss: 0.2439\n"
     ]
    },
    {
     "name": "stderr",
     "output_type": "stream",
     "text": [
      "                                                                              \r"
     ]
    },
    {
     "name": "stdout",
     "output_type": "stream",
     "text": [
      "Epoch [6/10] - Train Loss: 0.2526, Val Loss: 0.2364\n"
     ]
    },
    {
     "name": "stderr",
     "output_type": "stream",
     "text": [
      "                                                                              \r"
     ]
    },
    {
     "name": "stdout",
     "output_type": "stream",
     "text": [
      "Epoch [7/10] - Train Loss: 0.2450, Val Loss: 0.2326\n"
     ]
    },
    {
     "name": "stderr",
     "output_type": "stream",
     "text": [
      "                                                                              \r"
     ]
    },
    {
     "name": "stdout",
     "output_type": "stream",
     "text": [
      "Epoch [8/10] - Train Loss: 0.2387, Val Loss: 0.2298\n"
     ]
    },
    {
     "name": "stderr",
     "output_type": "stream",
     "text": [
      "                                                                              \r"
     ]
    },
    {
     "name": "stdout",
     "output_type": "stream",
     "text": [
      "Epoch [9/10] - Train Loss: 0.2348, Val Loss: 0.2298\n"
     ]
    },
    {
     "name": "stderr",
     "output_type": "stream",
     "text": [
      "                                                                               \r"
     ]
    },
    {
     "name": "stdout",
     "output_type": "stream",
     "text": [
      "Epoch [10/10] - Train Loss: 0.2293, Val Loss: 0.2268\n"
     ]
    },
    {
     "data": {
      "image/png": "[encoded data removed]",
      "text/plain": [
       "<Figure size 1000x600 with 1 Axes>"
      ]
     },
     "metadata": {},
     "output_type": "display_data"
    }
   ],
   "source": [
    "# Hyperparameters for CPC training\n",
    "num_cpc_epochs = 10\n",
    "patience = 2  # Number of epochs to wait for improvement on the validation set\n",
    "best_val_loss = float('inf')\n",
    "no_improve = 0\n",
    "\n",
    "# Lists to store losses for plotting\n",
    "cpc_losses_train = []\n",
    "cpc_losses_val = []\n",
    "\n",
    "# Training loop with validation monitoring and early stopping\n",
    "for epoch in range(num_cpc_epochs):\n",
    "    cpc_model.train()\n",
    "    running_loss_train = 0.0\n",
    "    num_batches_train = len(train_loader)\n",
    "    \n",
    "    # Training phase\n",
    "    for batch_data, _ in tqdm(train_loader, desc=f\"CPC Epoch {epoch+1}/{num_cpc_epochs} (Train)\", leave=False):\n",
    "        batch_data = batch_data.to(device)\n",
    "        optimizer_cpc.zero_grad()\n",
    "        loss = cpc_model.compute_loss(batch_data)\n",
    "        loss.backward()\n",
    "        optimizer_cpc.step()\n",
    "        running_loss_train += loss.item()\n",
    "    \n",
    "    avg_train_loss = running_loss_train / num_batches_train\n",
    "    cpc_losses_train.append(avg_train_loss)\n",
    "    \n",
    "    # Validation phase\n",
    "    cpc_model.eval()\n",
    "    running_loss_val = 0.0\n",
    "    num_batches_val = len(val_loader)\n",
    "    \n",
    "    with torch.no_grad():\n",
    "        for batch_data, _ in tqdm(val_loader, desc=f\"CPC Epoch {epoch+1}/{num_cpc_epochs} (Validation)\", leave=False):\n",
    "            batch_data = batch_data.to(device)\n",
    "            loss_val = cpc_model.compute_loss(batch_data)\n",
    "            running_loss_val += loss_val.item()\n",
    "    \n",
    "    avg_val_loss = running_loss_val / num_batches_val\n",
    "    cpc_losses_val.append(avg_val_loss)\n",
    "    \n",
    "    print(f\"Epoch [{epoch+1}/{num_cpc_epochs}] - Train Loss: {avg_train_loss:.4f}, Val Loss: {avg_val_loss:.4f}\")\n",
    "    \n",
    "    # Early stopping: check if validation loss improved significantly\n",
    "    if avg_val_loss < best_val_loss:\n",
    "        best_val_loss = avg_val_loss\n",
    "        no_improve = 0\n",
    "    else:\n",
    "        no_improve += 1\n",
    "        if no_improve >= patience:\n",
    "            print(\"Early stopping triggered.\")\n",
    "            break\n",
    "\n",
    "# Plotting the loss curves for both training and validation\n",
    "plt.figure(figsize=(10, 6))\n",
    "plt.plot(range(1, len(cpc_losses_train)+1), cpc_losses_train, label='Train Loss', marker='o')\n",
    "plt.plot(range(1, len(cpc_losses_val)+1), cpc_losses_val, label='Validation Loss', marker='o')\n",
    "plt.xlabel('Epoch')\n",
    "plt.ylabel('InfoNCE Loss')\n",
    "plt.title('CPC Pretraining Loss Curves')\n",
    "plt.legend()\n",
    "plt.show()"
   ]
  },
  {
   "cell_type": "code",
   "execution_count": 56,
   "metadata": {},
   "outputs": [
    {
     "name": "stderr",
     "output_type": "stream",
     "text": [
      "                                                                       "
     ]
    },
    {
     "name": "stdout",
     "output_type": "stream",
     "text": [
      "Train Embeddings Shape: torch.Size([3997, 64])\n",
      "Test Embeddings Shape: torch.Size([3998, 64])\n"
     ]
    },
    {
     "name": "stderr",
     "output_type": "stream",
     "text": [
      "\r"
     ]
    }
   ],
   "source": [
    "\n",
    "# For logistic regression and metrics\n",
    "from sklearn.linear_model import LogisticRegression\n",
    "from sklearn.metrics import accuracy_score, roc_auc_score, average_precision_score\n",
    "\n",
    "# ----------------------------\n",
    "# Freeze Pretrained CPC Network\n",
    "# ----------------------------\n",
    "cpc_model.eval()\n",
    "for param in cpc_model.parameters():\n",
    "    param.requires_grad = False\n",
    "\n",
    "# ----------------------------\n",
    "# Function to Compute Embeddings\n",
    "# ----------------------------\n",
    "def compute_embeddings(model, data_loader):\n",
    "    \"\"\"\n",
    "    Compute a single embedding per patient by processing through the CPC network and averaging\n",
    "    the context vectors over time.\n",
    "    \"\"\"\n",
    "    embeddings_list = []\n",
    "    labels_list = []\n",
    "    with torch.no_grad():\n",
    "        for batch_data, batch_labels in tqdm(data_loader, desc=\"Computing Embeddings\", leave=False):\n",
    "            batch_data = batch_data.to(device)\n",
    "            # Forward pass through the CPC model: returns latent z and context c\n",
    "            z, c = model(batch_data)  # c shape: (batch, seq_len, model_dim)\n",
    "            # Aggregate over time (e.g. average pooling) to get a single embedding vector per patient\n",
    "            embedding = c.mean(dim=1)  # shape: (batch, model_dim)\n",
    "            embeddings_list.append(embedding.cpu())\n",
    "            labels_list.append(batch_labels.cpu())\n",
    "    \n",
    "    embeddings = torch.cat(embeddings_list, dim=0)\n",
    "    labels = torch.cat(labels_list, dim=0)\n",
    "    return embeddings, labels\n",
    "\n",
    "# Compute embeddings for train and test sets\n",
    "train_embeddings, train_labels = compute_embeddings(cpc_model, train_loader)\n",
    "test_embeddings, test_labels = compute_embeddings(cpc_model, test_loader)\n",
    "\n",
    "print(\"Train Embeddings Shape:\", train_embeddings.shape)\n",
    "print(\"Test Embeddings Shape:\", test_embeddings.shape)\n"
   ]
  },
  {
   "cell_type": "code",
   "execution_count": 57,
   "metadata": {},
   "outputs": [],
   "source": [
    "from sklearn.model_selection import GridSearchCV\n",
    "\n",
    "def train_and_evaluate_logistic_regression(X_train, y_train, X_test, y_test):\n",
    "    # ----------------------------\n",
    "    # Train a Logistic Regression (Linear Probe)\n",
    "    # ----------------------------\n",
    "    \n",
    "    # Define the parameter grid for hyperparameter tuning\n",
    "    param_grid = {\n",
    "        'C': [0.01, 0.1, 1, 10, 100],  # Regularization strength\n",
    "        'solver': ['lbfgs', 'liblinear'],  # Solvers\n",
    "        'max_iter': [100, 500, 1000]  # Maximum iterations\n",
    "    }\n",
    "\n",
    "    # Create a Logistic Regression model\n",
    "    base_clf = LogisticRegression(random_state=42)\n",
    "\n",
    "    # Perform grid search with cross-validation\n",
    "    grid_search = GridSearchCV(estimator=base_clf, param_grid=param_grid, cv=5, scoring='roc_auc', n_jobs=-1)\n",
    "    grid_search.fit(X_train, y_train)\n",
    "\n",
    "    # Retrieve the best model\n",
    "    clf = grid_search.best_estimator_\n",
    "    print(f\"Best Hyperparameters: {grid_search.best_params_}\")\n",
    "\n",
    "    # Predict probabilities on the test set\n",
    "    y_prob = clf.predict_proba(X_test)[:, 1]\n",
    "    # Predict binary labels (threshold 0.5)\n",
    "    y_pred = (y_prob >= 0.5).astype(int)\n",
    "\n",
    "    # ----------------------------\n",
    "    # Evaluation Metrics\n",
    "    # ----------------------------\n",
    "    accuracy = accuracy_score(y_test, y_pred)\n",
    "    auroc = roc_auc_score(y_test, y_prob)\n",
    "    auprc = average_precision_score(y_test, y_prob)\n",
    "\n",
    "    print(f\"Linear Probe Results:\")\n",
    "    print(f\"Accuracy: {accuracy*100:.2f}%\")\n",
    "    print(f\"AUROC: {auroc:.4f}\")\n",
    "    print(f\"AUPRC: {auprc:.4f}\")"
   ]
  },
  {
   "cell_type": "markdown",
   "metadata": {},
   "source": [
    "### 3.1 part 2"
   ]
  },
  {
   "cell_type": "code",
   "execution_count": 58,
   "metadata": {},
   "outputs": [
    {
     "name": "stdout",
     "output_type": "stream",
     "text": [
      "Best Hyperparameters: {'C': 0.1, 'max_iter': 100, 'solver': 'lbfgs'}\n",
      "Linear Probe Results:\n",
      "Accuracy: 85.87%\n",
      "AUROC: 0.7850\n",
      "AUPRC: 0.4052\n"
     ]
    }
   ],
   "source": [
    "X_train = train_embeddings.numpy()\n",
    "y_train = train_labels.numpy().ravel()  # flatten to 1D\n",
    "X_test = test_embeddings.numpy()\n",
    "y_test = test_labels.numpy().ravel()\n",
    "\n",
    "train_and_evaluate_logistic_regression(X_train, y_train, X_test, y_test)"
   ]
  },
  {
   "cell_type": "markdown",
   "metadata": {},
   "source": [
    "### 3.2 part 2"
   ]
  },
  {
   "cell_type": "code",
   "execution_count": 59,
   "metadata": {},
   "outputs": [
    {
     "name": "stdout",
     "output_type": "stream",
     "text": [
      "Training with 100 samples:\n",
      "Best Hyperparameters: {'C': 0.01, 'max_iter': 100, 'solver': 'lbfgs'}\n",
      "Linear Probe Results:\n",
      "Accuracy: 85.37%\n",
      "AUROC: 0.6774\n",
      "AUPRC: 0.2508\n",
      "Training with 500 samples:\n",
      "Best Hyperparameters: {'C': 1, 'max_iter': 100, 'solver': 'lbfgs'}\n",
      "Linear Probe Results:\n",
      "Accuracy: 85.09%\n",
      "AUROC: 0.7367\n",
      "AUPRC: 0.3171\n",
      "Training with 1000 samples:\n",
      "Best Hyperparameters: {'C': 1, 'max_iter': 100, 'solver': 'lbfgs'}\n",
      "Linear Probe Results:\n",
      "Accuracy: 85.42%\n",
      "AUROC: 0.7601\n",
      "AUPRC: 0.3790\n"
     ]
    }
   ],
   "source": [
    "# Choose random 100, 500, 1000 data point from training set to train the logistic regression model\n",
    "def random_sample(X, y, n_samples):\n",
    "    indices = np.random.choice(len(X), size=n_samples, replace=False)\n",
    "    return X[indices], y[indices]\n",
    "\n",
    "X_train_100, y_train_100 = random_sample(X_train, y_train, 100)\n",
    "X_train_500, y_train_500 = random_sample(X_train, y_train, 500)\n",
    "X_train_1000, y_train_1000 = random_sample(X_train, y_train, 1000)\n",
    "\n",
    "print(\"Training with 100 samples:\")\n",
    "train_and_evaluate_logistic_regression(X_train_100, y_train_100, X_test, y_test)\n",
    "\n",
    "print(\"Training with 500 samples:\")\n",
    "train_and_evaluate_logistic_regression(X_train_500, y_train_500, X_test, y_test)\n",
    "\n",
    "print(\"Training with 1000 samples:\")\n",
    "train_and_evaluate_logistic_regression(X_train_1000, y_train_1000, X_test, y_test)"
   ]
  },
  {
   "cell_type": "code",
   "execution_count": null,
   "metadata": {},
   "outputs": [],
   "source": []
  }
 ],
 "metadata": {
  "kernelspec": {
   "display_name": ".venv",
   "language": "python",
   "name": "python3"
  },
  "language_info": {
   "codemirror_mode": {
    "name": "ipython",
    "version": 3
   },
   "file_extension": ".py",
   "mimetype": "text/x-python",
   "name": "python",
   "nbconvert_exporter": "python",
   "pygments_lexer": "ipython3",
   "version": "3.12.2"
  }
 },
 "nbformat": 4,
 "nbformat_minor": 2
}
