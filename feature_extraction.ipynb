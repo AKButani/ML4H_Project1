{
 "cells": [
  {
   "cell_type": "code",
   "execution_count": 4,
   "metadata": {},
   "outputs": [],
   "source": [
    "import pandas as pd\n",
    "import numpy as np\n",
    "import matplotlib.pyplot as plt\n",
    "from sklearn.preprocessing import StandardScaler\n",
    "from sklearn.impute import SimpleImputer\n",
    "import os\n",
    "\n",
    "\n",
    "from tsfresh import extract_features\n",
    "from tsfresh.feature_extraction import ComprehensiveFCParameters, EfficientFCParameters, MinimalFCParameters\n",
    "from sklearn.impute import SimpleImputer\n"
   ]
  },
  {
   "cell_type": "code",
   "execution_count": 16,
   "metadata": {},
   "outputs": [],
   "source": [
    "def extract_tsfresh_features(df):\n",
    "\n",
    "    # Get the full row of data for the last timestamp for each RecordID\n",
    "    last_data = df.sort_values(\"Time\").groupby(\"RecordID\").last()\n",
    "    last_data = last_data.drop(columns=[\"Time\"])\n",
    "    print(\"last data index\", last_data.index)\n",
    "    # Rename columns (except RecordID) to indicate these are from the last time stamp\n",
    "    last_data = last_data.rename(columns=lambda x: f\"last_{x}\" if x != \"RecordID\" else x)\n",
    "\n",
    "   \n",
    "\n",
    "    # Define the settings for feature extraction\n",
    "    extraction_settings = {\n",
    "        'abs_energy': None,\n",
    "        'absolute_sum_of_changes': None,\n",
    "        'agg_linear_trend': [{'attr': 'slope', 'chunk_len': 5, 'f_agg': 'mean'}, {'attr': 'intercept', 'chunk_len': 5, 'f_agg': 'mean'}],\n",
    "        'approximate_entropy': [{'m': 2, 'r': 0.2}],\n",
    "        'kurtosis': None,\n",
    "        'skewness': None,\n",
    "        'agg_autocorrelation': [{'f_agg': 'mean', 'maxlag': 10}],\n",
    "        'fft_aggregated': [{'aggtype': 'centroid'}, {'aggtype': 'variance'}, {'aggtype': 'skew'}, {'aggtype': 'kurtosis'}],\n",
    "        'fourier_entropy': [{'bins': 10}],\n",
    "        'longest_strike_above_mean': None,\n",
    "        'time_reversal_asymmetry_statistic': [{'lag': 1}],\n",
    "        'lempel_ziv_complexity': [{'bins': 10}],\n",
    "        'mean': None,\n",
    "        'minimum': None,\n",
    "        'maximum': None,\n",
    "        'variance': None,\n",
    "    }\n",
    "# \n",
    "    if 'In-hospital_death' in df.columns:\n",
    "        df = df.drop(columns=['In-hospital_death'])\n",
    "    if 'ICUType' in df.columns:\n",
    "        df = df.drop(columns=['ICUType'])\n",
    "    \n",
    "    # Extract features using tsfresh with parallelization\n",
    "    features = extract_features(df, column_id='RecordID', column_sort='Time', default_fc_parameters=extraction_settings, n_jobs=os.cpu_count())\n",
    "    print(\"features index\", features.index)\n",
    "    # Replace infinite values with NaNs\n",
    "    features.replace([np.inf, -np.inf], np.nan, inplace=True)\n",
    "\n",
    "     # Merge the tsfresh features with the last time stamp data\n",
    "    final_features = features.merge(last_data, how=\"left\", left_index=True, right_index=True)\n",
    "\n",
    "    return final_features"
   ]
  },
  {
   "cell_type": "code",
   "execution_count": 17,
   "metadata": {},
   "outputs": [
    {
     "name": "stdout",
     "output_type": "stream",
     "text": [
      "last data index Index([132539.0, 132540.0, 132541.0, 132543.0, 132545.0, 132547.0, 132548.0,\n",
      "       132551.0, 132554.0, 132555.0,\n",
      "       ...\n",
      "       142655.0, 142659.0, 142661.0, 142662.0, 142664.0, 142665.0, 142667.0,\n",
      "       142670.0, 142671.0, 142673.0],\n",
      "      dtype='float64', name='RecordID', length=3997)\n"
     ]
    },
    {
     "name": "stderr",
     "output_type": "stream",
     "text": [
      "Feature Extraction: 100%|██████████| 70/70 [00:38<00:00,  1.80it/s]\n",
      "\n"
     ]
    },
    {
     "name": "stdout",
     "output_type": "stream",
     "text": [
      "features index Index([132539.0, 132540.0, 132541.0, 132543.0, 132545.0, 132547.0, 132548.0,\n",
      "       132551.0, 132554.0, 132555.0,\n",
      "       ...\n",
      "       142655.0, 142659.0, 142661.0, 142662.0, 142664.0, 142665.0, 142667.0,\n",
      "       142670.0, 142671.0, 142673.0],\n",
      "      dtype='float64', length=3997)\n",
      "last data index Index([142675.0, 142676.0, 142680.0, 142683.0, 142688.0, 142690.0, 142691.0,\n",
      "       142692.0, 142693.0, 142694.0,\n",
      "       ...\n",
      "       152839.0, 152840.0, 152841.0, 152842.0, 152848.0, 152849.0, 152851.0,\n",
      "       152858.0, 152862.0, 152864.0],\n",
      "      dtype='float64', name='RecordID', length=3993)\n"
     ]
    },
    {
     "name": "stderr",
     "output_type": "stream",
     "text": [
      "Feature Extraction: 100%|██████████| 70/70 [00:43<00:00,  1.62it/s]\n",
      "\n"
     ]
    },
    {
     "name": "stdout",
     "output_type": "stream",
     "text": [
      "features index Index([142675.0, 142676.0, 142680.0, 142683.0, 142688.0, 142690.0, 142691.0,\n",
      "       142692.0, 142693.0, 142694.0,\n",
      "       ...\n",
      "       152839.0, 152840.0, 152841.0, 152842.0, 152848.0, 152849.0, 152851.0,\n",
      "       152858.0, 152862.0, 152864.0],\n",
      "      dtype='float64', length=3993)\n",
      "last data index Index([152871.0, 152873.0, 152875.0, 152878.0, 152882.0, 152884.0, 152885.0,\n",
      "       152886.0, 152887.0, 152890.0,\n",
      "       ...\n",
      "       163013.0, 163016.0, 163017.0, 163021.0, 163027.0, 163029.0, 163033.0,\n",
      "       163034.0, 163035.0, 163037.0],\n",
      "      dtype='float64', name='RecordID', length=3998)\n"
     ]
    },
    {
     "name": "stderr",
     "output_type": "stream",
     "text": [
      "Feature Extraction: 100%|██████████| 70/70 [00:47<00:00,  1.47it/s]\n",
      "\n"
     ]
    },
    {
     "name": "stdout",
     "output_type": "stream",
     "text": [
      "features index Index([152871.0, 152873.0, 152875.0, 152878.0, 152882.0, 152884.0, 152885.0,\n",
      "       152886.0, 152887.0, 152890.0,\n",
      "       ...\n",
      "       163013.0, 163016.0, 163017.0, 163021.0, 163027.0, 163029.0, 163033.0,\n",
      "       163034.0, 163035.0, 163037.0],\n",
      "      dtype='float64', length=3998)\n"
     ]
    }
   ],
   "source": [
    "set_a = pd.read_parquet(os.path.join('loaded_data', 'a_patient_data_processed_cluster.parquet'))\n",
    "training_x = extract_tsfresh_features(set_a)\n",
    "\n",
    "set_b = pd.read_parquet(os.path.join('loaded_data', 'b_patient_data_processed_cluster.parquet'))\n",
    "validation_x = extract_tsfresh_features(set_b)\n",
    "\n",
    "set_c = pd.read_parquet(os.path.join('loaded_data', 'c_patient_data_processed_cluster.parquet'))\n",
    "test_x = extract_tsfresh_features(set_c)\n",
    "    "
   ]
  },
  {
   "cell_type": "code",
   "execution_count": null,
   "metadata": {},
   "outputs": [],
   "source": [
    "training_x.to_parquet('training_X_custom_features_2.parquet')\n",
    "validation_x.to_parquet('validation_X_custom_features.parquet')    \n",
    "test_x.to_parquet('testing_X_custom_features.parquet')"
   ]
  },
  {
   "cell_type": "code",
   "execution_count": 45,
   "metadata": {},
   "outputs": [],
   "source": [
    "# training_x  = pd.read_parquet('training_X_min_features.parquet')\n",
    "# validation_x = pd.read_parquet('validation_X_min_features.parquet')[training_x.columns]\n",
    "# test_x = pd.read_parquet('testing_X_min_features.parquet')[training_x.columns]"
   ]
  },
  {
   "cell_type": "code",
   "execution_count": 18,
   "metadata": {},
   "outputs": [
    {
     "data": {
      "text/plain": [
       "Index(['Age__fft_aggregated__aggtype_\"skew\"',\n",
       "       'Age__fft_aggregated__aggtype_\"kurtosis\"',\n",
       "       'Gender__fft_aggregated__aggtype_\"skew\"',\n",
       "       'Gender__fft_aggregated__aggtype_\"kurtosis\"',\n",
       "       'Height__fft_aggregated__aggtype_\"skew\"',\n",
       "       'Height__fft_aggregated__aggtype_\"kurtosis\"',\n",
       "       'Weight__fft_aggregated__aggtype_\"skew\"',\n",
       "       'Weight__fft_aggregated__aggtype_\"kurtosis\"'],\n",
       "      dtype='object')"
      ]
     },
     "execution_count": 18,
     "metadata": {},
     "output_type": "execute_result"
    }
   ],
   "source": [
    "# get columns that are completely empty\n",
    "empty_cols = training_x.columns[training_x.isnull().all()]\n",
    "empty_cols"
   ]
  },
  {
   "cell_type": "code",
   "execution_count": 19,
   "metadata": {},
   "outputs": [],
   "source": [
    "training_x = training_x.drop(columns=empty_cols)\n",
    "validation_x = validation_x.drop(columns=empty_cols)\n",
    "test_x = test_x.drop(columns=empty_cols)"
   ]
  },
  {
   "cell_type": "code",
   "execution_count": 20,
   "metadata": {},
   "outputs": [],
   "source": [
    "standardscaler = StandardScaler()"
   ]
  },
  {
   "cell_type": "code",
   "execution_count": 21,
   "metadata": {},
   "outputs": [],
   "source": [
    "training_x_scaled = standardscaler.fit_transform(training_x)\n",
    "validation_x_scaled = standardscaler.transform(validation_x)\n",
    "test_x_scaled = standardscaler.transform(test_x)"
   ]
  },
  {
   "cell_type": "code",
   "execution_count": 22,
   "metadata": {},
   "outputs": [],
   "source": [
    "training_x = pd.DataFrame(training_x, columns=training_x.columns, index=training_x.index)\n",
    "validation_x = pd.DataFrame(validation_x, columns=training_x.columns, index=validation_x.index)\n",
    "test_x = pd.DataFrame(test_x, columns=training_x.columns, index=test_x.index)"
   ]
  },
  {
   "cell_type": "code",
   "execution_count": 23,
   "metadata": {},
   "outputs": [],
   "source": [
    "imputer = SimpleImputer(strategy='median')\n",
    "training_x = pd.DataFrame(imputer.fit_transform(training_x), columns=training_x.columns, index=training_x.index)\n",
    "validation_x = pd.DataFrame(imputer.transform(validation_x), columns=validation_x.columns, index=validation_x.index)\n",
    "test_x = pd.DataFrame(imputer.transform(test_x), columns=test_x.columns, index=test_x.index)"
   ]
  },
  {
   "cell_type": "code",
   "execution_count": 24,
   "metadata": {},
   "outputs": [
    {
     "data": {
      "text/html": [
       "<div>\n",
       "<style scoped>\n",
       "    .dataframe tbody tr th:only-of-type {\n",
       "        vertical-align: middle;\n",
       "    }\n",
       "\n",
       "    .dataframe tbody tr th {\n",
       "        vertical-align: top;\n",
       "    }\n",
       "\n",
       "    .dataframe thead th {\n",
       "        text-align: right;\n",
       "    }\n",
       "</style>\n",
       "<table border=\"1\" class=\"dataframe\">\n",
       "  <thead>\n",
       "    <tr style=\"text-align: right;\">\n",
       "      <th></th>\n",
       "      <th>ALP__abs_energy</th>\n",
       "      <th>ALP__absolute_sum_of_changes</th>\n",
       "      <th>ALP__agg_linear_trend__attr_\"slope\"__chunk_len_5__f_agg_\"mean\"</th>\n",
       "      <th>ALP__agg_linear_trend__attr_\"intercept\"__chunk_len_5__f_agg_\"mean\"</th>\n",
       "      <th>ALP__approximate_entropy__m_2__r_0.2</th>\n",
       "      <th>ALP__kurtosis</th>\n",
       "      <th>ALP__skewness</th>\n",
       "      <th>ALP__agg_autocorrelation__f_agg_\"mean\"__maxlag_10</th>\n",
       "      <th>ALP__fft_aggregated__aggtype_\"centroid\"</th>\n",
       "      <th>ALP__fft_aggregated__aggtype_\"variance\"</th>\n",
       "      <th>...</th>\n",
       "      <th>last_RespRate</th>\n",
       "      <th>last_SaO2</th>\n",
       "      <th>last_SysABP</th>\n",
       "      <th>last_Temp</th>\n",
       "      <th>last_TroponinI</th>\n",
       "      <th>last_TroponinT</th>\n",
       "      <th>last_Urine</th>\n",
       "      <th>last_WBC</th>\n",
       "      <th>last_Weight</th>\n",
       "      <th>last_pH</th>\n",
       "    </tr>\n",
       "  </thead>\n",
       "  <tbody>\n",
       "    <tr>\n",
       "      <th>132539.0</th>\n",
       "      <td>0.907040</td>\n",
       "      <td>0.000000</td>\n",
       "      <td>0.00000</td>\n",
       "      <td>-0.138920</td>\n",
       "      <td>0.000000</td>\n",
       "      <td>0.000000</td>\n",
       "      <td>0.000000</td>\n",
       "      <td>0.000000</td>\n",
       "      <td>3.014734e-15</td>\n",
       "      <td>4.512324e-14</td>\n",
       "      <td>...</td>\n",
       "      <td>1.340782</td>\n",
       "      <td>0.214272</td>\n",
       "      <td>-0.030791</td>\n",
       "      <td>0.972883</td>\n",
       "      <td>-0.08847</td>\n",
       "      <td>-0.146278</td>\n",
       "      <td>0.830447</td>\n",
       "      <td>-0.477987</td>\n",
       "      <td>-0.120163</td>\n",
       "      <td>-0.013711</td>\n",
       "    </tr>\n",
       "    <tr>\n",
       "      <th>132540.0</th>\n",
       "      <td>0.926339</td>\n",
       "      <td>0.000000</td>\n",
       "      <td>0.00000</td>\n",
       "      <td>-0.138920</td>\n",
       "      <td>0.000000</td>\n",
       "      <td>0.000000</td>\n",
       "      <td>0.000000</td>\n",
       "      <td>0.000000</td>\n",
       "      <td>0.000000e+00</td>\n",
       "      <td>0.000000e+00</td>\n",
       "      <td>...</td>\n",
       "      <td>-0.063384</td>\n",
       "      <td>-0.232318</td>\n",
       "      <td>-0.676732</td>\n",
       "      <td>0.085470</td>\n",
       "      <td>-0.08847</td>\n",
       "      <td>-0.146278</td>\n",
       "      <td>0.501009</td>\n",
       "      <td>0.120932</td>\n",
       "      <td>-0.076606</td>\n",
       "      <td>-0.017041</td>\n",
       "    </tr>\n",
       "    <tr>\n",
       "      <th>132541.0</th>\n",
       "      <td>5.999162</td>\n",
       "      <td>1.050731</td>\n",
       "      <td>-0.03077</td>\n",
       "      <td>0.453033</td>\n",
       "      <td>0.083586</td>\n",
       "      <td>0.306111</td>\n",
       "      <td>0.495705</td>\n",
       "      <td>0.334863</td>\n",
       "      <td>4.976976e+00</td>\n",
       "      <td>4.795748e+01</td>\n",
       "      <td>...</td>\n",
       "      <td>-0.063384</td>\n",
       "      <td>-1.125500</td>\n",
       "      <td>0.384456</td>\n",
       "      <td>0.212243</td>\n",
       "      <td>-0.08847</td>\n",
       "      <td>-0.146278</td>\n",
       "      <td>-0.514759</td>\n",
       "      <td>-0.969407</td>\n",
       "      <td>-1.161171</td>\n",
       "      <td>-0.000390</td>\n",
       "    </tr>\n",
       "    <tr>\n",
       "      <th>132543.0</th>\n",
       "      <td>2.805955</td>\n",
       "      <td>0.000000</td>\n",
       "      <td>0.00000</td>\n",
       "      <td>0.241780</td>\n",
       "      <td>0.000000</td>\n",
       "      <td>0.000000</td>\n",
       "      <td>0.000000</td>\n",
       "      <td>0.000000</td>\n",
       "      <td>0.000000e+00</td>\n",
       "      <td>0.000000e+00</td>\n",
       "      <td>...</td>\n",
       "      <td>-0.238905</td>\n",
       "      <td>0.214272</td>\n",
       "      <td>-0.030791</td>\n",
       "      <td>-0.041304</td>\n",
       "      <td>-0.08847</td>\n",
       "      <td>-0.146278</td>\n",
       "      <td>2.312920</td>\n",
       "      <td>-0.708340</td>\n",
       "      <td>0.054064</td>\n",
       "      <td>-0.013711</td>\n",
       "    </tr>\n",
       "    <tr>\n",
       "      <th>132545.0</th>\n",
       "      <td>0.887742</td>\n",
       "      <td>0.000000</td>\n",
       "      <td>0.00000</td>\n",
       "      <td>-0.138920</td>\n",
       "      <td>0.000000</td>\n",
       "      <td>0.000000</td>\n",
       "      <td>0.000000</td>\n",
       "      <td>0.000000</td>\n",
       "      <td>7.121964e-16</td>\n",
       "      <td>8.380014e-15</td>\n",
       "      <td>...</td>\n",
       "      <td>-1.116509</td>\n",
       "      <td>0.214272</td>\n",
       "      <td>-0.030791</td>\n",
       "      <td>-0.421623</td>\n",
       "      <td>-0.08847</td>\n",
       "      <td>-0.146278</td>\n",
       "      <td>-0.267680</td>\n",
       "      <td>-1.184403</td>\n",
       "      <td>-0.120163</td>\n",
       "      <td>-0.013711</td>\n",
       "    </tr>\n",
       "  </tbody>\n",
       "</table>\n",
       "<p>5 rows × 834 columns</p>\n",
       "</div>"
      ],
      "text/plain": [
       "          ALP__abs_energy  ALP__absolute_sum_of_changes  \\\n",
       "132539.0         0.907040                      0.000000   \n",
       "132540.0         0.926339                      0.000000   \n",
       "132541.0         5.999162                      1.050731   \n",
       "132543.0         2.805955                      0.000000   \n",
       "132545.0         0.887742                      0.000000   \n",
       "\n",
       "          ALP__agg_linear_trend__attr_\"slope\"__chunk_len_5__f_agg_\"mean\"  \\\n",
       "132539.0                                            0.00000                \n",
       "132540.0                                            0.00000                \n",
       "132541.0                                           -0.03077                \n",
       "132543.0                                            0.00000                \n",
       "132545.0                                            0.00000                \n",
       "\n",
       "          ALP__agg_linear_trend__attr_\"intercept\"__chunk_len_5__f_agg_\"mean\"  \\\n",
       "132539.0                                          -0.138920                    \n",
       "132540.0                                          -0.138920                    \n",
       "132541.0                                           0.453033                    \n",
       "132543.0                                           0.241780                    \n",
       "132545.0                                          -0.138920                    \n",
       "\n",
       "          ALP__approximate_entropy__m_2__r_0.2  ALP__kurtosis  ALP__skewness  \\\n",
       "132539.0                              0.000000       0.000000       0.000000   \n",
       "132540.0                              0.000000       0.000000       0.000000   \n",
       "132541.0                              0.083586       0.306111       0.495705   \n",
       "132543.0                              0.000000       0.000000       0.000000   \n",
       "132545.0                              0.000000       0.000000       0.000000   \n",
       "\n",
       "          ALP__agg_autocorrelation__f_agg_\"mean\"__maxlag_10  \\\n",
       "132539.0                                           0.000000   \n",
       "132540.0                                           0.000000   \n",
       "132541.0                                           0.334863   \n",
       "132543.0                                           0.000000   \n",
       "132545.0                                           0.000000   \n",
       "\n",
       "          ALP__fft_aggregated__aggtype_\"centroid\"  \\\n",
       "132539.0                             3.014734e-15   \n",
       "132540.0                             0.000000e+00   \n",
       "132541.0                             4.976976e+00   \n",
       "132543.0                             0.000000e+00   \n",
       "132545.0                             7.121964e-16   \n",
       "\n",
       "          ALP__fft_aggregated__aggtype_\"variance\"  ...  last_RespRate  \\\n",
       "132539.0                             4.512324e-14  ...       1.340782   \n",
       "132540.0                             0.000000e+00  ...      -0.063384   \n",
       "132541.0                             4.795748e+01  ...      -0.063384   \n",
       "132543.0                             0.000000e+00  ...      -0.238905   \n",
       "132545.0                             8.380014e-15  ...      -1.116509   \n",
       "\n",
       "          last_SaO2  last_SysABP  last_Temp  last_TroponinI  last_TroponinT  \\\n",
       "132539.0   0.214272    -0.030791   0.972883        -0.08847       -0.146278   \n",
       "132540.0  -0.232318    -0.676732   0.085470        -0.08847       -0.146278   \n",
       "132541.0  -1.125500     0.384456   0.212243        -0.08847       -0.146278   \n",
       "132543.0   0.214272    -0.030791  -0.041304        -0.08847       -0.146278   \n",
       "132545.0   0.214272    -0.030791  -0.421623        -0.08847       -0.146278   \n",
       "\n",
       "          last_Urine  last_WBC  last_Weight   last_pH  \n",
       "132539.0    0.830447 -0.477987    -0.120163 -0.013711  \n",
       "132540.0    0.501009  0.120932    -0.076606 -0.017041  \n",
       "132541.0   -0.514759 -0.969407    -1.161171 -0.000390  \n",
       "132543.0    2.312920 -0.708340     0.054064 -0.013711  \n",
       "132545.0   -0.267680 -1.184403    -0.120163 -0.013711  \n",
       "\n",
       "[5 rows x 834 columns]"
      ]
     },
     "execution_count": 24,
     "metadata": {},
     "output_type": "execute_result"
    }
   ],
   "source": [
    "training_x.head()"
   ]
  },
  {
   "cell_type": "code",
   "execution_count": 26,
   "metadata": {},
   "outputs": [],
   "source": [
    "training_x.to_parquet(os.path.join('extracted_features', 'training_X_clean_custom_2.parquet'))\n",
    "validation_x.to_parquet(os.path.join('extracted_features', 'validation_X_clean_custom_2.parquet'))\n",
    "test_x.to_parquet(os.path.join('extracted_features', 'test_X_clean_custom_2.parquet'))"
   ]
  },
  {
   "cell_type": "code",
   "execution_count": 1,
   "metadata": {},
   "outputs": [],
   "source": [
    "import pandas as pd\n",
    "import os\n",
    "\n",
    "training_x = pd.read_parquet(os.path.join('extracted_features', 'training_X_clean.parquet'))"
   ]
  },
  {
   "cell_type": "code",
   "execution_count": 2,
   "metadata": {},
   "outputs": [
    {
     "name": "stdout",
     "output_type": "stream",
     "text": []
    }
   ],
   "source": [
    "for i in training_x.columns:\n",
    "    print(i)"
   ]
  },
  {
   "cell_type": "code",
   "execution_count": null,
   "metadata": {},
   "outputs": [],
   "source": []
  }
 ],
 "metadata": {
  "kernelspec": {
   "display_name": ".venv",
   "language": "python",
   "name": "python3"
  },
  "language_info": {
   "codemirror_mode": {
    "name": "ipython",
    "version": 3
   },
   "file_extension": ".py",
   "mimetype": "text/x-python",
   "name": "python",
   "nbconvert_exporter": "python",
   "pygments_lexer": "ipython3",
   "version": "3.12.9"
  }
 },
 "nbformat": 4,
 "nbformat_minor": 2
}
